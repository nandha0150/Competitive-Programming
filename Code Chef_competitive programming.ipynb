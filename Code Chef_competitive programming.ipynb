{
 "cells": [
  {
   "cell_type": "markdown",
   "metadata": {},
   "source": [
    "## Competitive Programming problems\n"
   ]
  },
  {
   "cell_type": "code",
   "execution_count": 12,
   "metadata": {},
   "outputs": [
    {
     "name": "stdout",
     "output_type": "stream",
     "text": [
      "2\n",
      "1 2 3 2 1\n",
      "NO\n",
      "2 4 2 1 2\n",
      "NO\n"
     ]
    }
   ],
   "source": [
    "# Accepted \n",
    "\n",
    "# Contest Code:PRACTICE Problem Code:CCISLAND\n",
    "\n",
    "# cook your dish here\n",
    "num = int(input())\n",
    "for each in range(num):\n",
    "    a= []\n",
    "    a = list(map(int,input().strip().split()))  \n",
    "    if(a[-1]*a[2] <= a[0] and a[-1]*a[3] <= a[1]):\n",
    "        print(\"YES\")\n",
    "    else:\n",
    "        print(\"NO\")\n",
    "    \n",
    "        "
   ]
  },
  {
   "cell_type": "code",
   "execution_count": 25,
   "metadata": {},
   "outputs": [
    {
     "name": "stdout",
     "output_type": "stream",
     "text": [
      "2\n",
      "4 5\n",
      "3 2\n",
      "FUFFP\n",
      "PFPFU\n",
      "UPFFU\n",
      "PPPFP\n",
      "1100\n",
      "3 4\n",
      "1 3\n",
      "PUPP\n",
      "UUUU\n",
      "UFUU\n",
      "101\n"
     ]
    }
   ],
   "source": [
    "# Accepted\n",
    "\n",
    "# cook your dish here\n",
    "# Problem No.2 \n",
    "# Hiring Test\n",
    "\n",
    "tst_cases= int(input())\n",
    "for each in range(tst_cases):\n",
    "    dat = list(map(int,input().strip().split()))\n",
    "    cand = dat[0] # No. of candidates\n",
    "    a= []\n",
    "    a = list(map(int,input().strip().split()))\n",
    "    X = a[0] # no. of fully solved problems for selection\n",
    "    Y = a[1] # no. of partially solved problems acceptable\n",
    "    for i in range(cand):\n",
    "        test = input()\n",
    "        test = list(test)\n",
    "        fully = test.count('F')\n",
    "        par = test.count('P')\n",
    "        if(fully>= X or (fully>= (X-1) and par >= Y)):\n",
    "            print(\"1\", end=\"\")\n",
    "        else:\n",
    "            print(\"0\", end=\"\")\n",
    "    print(\"\\n\")\n",
    "  "
   ]
  },
  {
   "cell_type": "code",
   "execution_count": null,
   "metadata": {},
   "outputs": [],
   "source": [
    "# Alternate solution for Problem 2\n",
    "\n",
    "for t in range(int(input())):\n",
    "    n,m = map(int, input().split(\" \"))\n",
    "    X,Y = map(int, input().split(\" \"))\n",
    "    result = \"\"\n",
    "    for x in range(n):\n",
    "        r = input()\n",
    "        p = 0\n",
    "        tc = 0\n",
    "        for _x in r:\n",
    "            if _x == 'F':\n",
    "                tc+=1\n",
    "            elif _x == 'P':\n",
    "                p +=1\n",
    "        if (tc>=X or (tc>=X-1 and p>=Y)):\n",
    "            result+='1'\n",
    "        else:\n",
    "            result+='0'\n",
    "    print (result)"
   ]
  },
  {
   "cell_type": "code",
   "execution_count": 20,
   "metadata": {},
   "outputs": [
    {
     "data": {
      "text/plain": [
       "1244"
      ]
     },
     "execution_count": 20,
     "metadata": {},
     "output_type": "execute_result"
    }
   ],
   "source": [
    "a = [1,2,4,4]\n",
    "a = \"\".join(map(str, a)) \n",
    "a= int(a)\n",
    "a"
   ]
  },
  {
   "cell_type": "code",
   "execution_count": 35,
   "metadata": {},
   "outputs": [
    {
     "name": "stdout",
     "output_type": "stream",
     "text": [
      "30 30.75\n",
      "0.25\n"
     ]
    }
   ],
   "source": [
    "# Problem 3\n",
    "\n",
    "wthdraw,balance = map(float, input().split(\" \"))\n",
    "if(wthdraw%5 == 0):\n",
    "    if(balance>=wthdraw+0.5):\n",
    "        print(balance-wthdraw-0.5)\n",
    "    else:\n",
    "        print(balance)\n",
    "else:\n",
    "    print(balance)\n",
    "        \n"
   ]
  },
  {
   "cell_type": "code",
   "execution_count": 36,
   "metadata": {},
   "outputs": [
    {
     "name": "stdout",
     "output_type": "stream",
     "text": [
      "30 90\n",
      "59.5\n"
     ]
    }
   ],
   "source": [
    "x,acc_balance = map(float,input().split())\n",
    "if x%5 != 0 or acc_balance - x - 0.5 < 0:\n",
    "    print(acc_balance)\n",
    "else:\n",
    "    print(acc_balance- x - 0.5)\n"
   ]
  },
  {
   "cell_type": "code",
   "execution_count": 40,
   "metadata": {},
   "outputs": [
    {
     "name": "stdout",
     "output_type": "stream",
     "text": [
      "3\n",
      "3 3\n",
      "2 3\n",
      "3 1\n",
      "YES\n",
      "3 3\n",
      "2 3\n",
      "3 2\n",
      "YES\n",
      "5 4\n",
      "1 2\n",
      "4 2\n",
      "NO\n"
     ]
    }
   ],
   "source": [
    "# Thief and Police Problem \n",
    "# Codechef\n",
    "\n",
    "for t in range(int(input())):\n",
    "    n,m = map(int, input().split())\n",
    "    x,y = map(int, input().split())\n",
    "    a,b = map(int, input().split())\n",
    "    if(n-x) + (m-y) <= max(n-a, m-b):\n",
    "        print(\"YES\")\n",
    "    else:\n",
    "        print('NO')\n"
   ]
  },
  {
   "cell_type": "code",
   "execution_count": null,
   "metadata": {},
   "outputs": [],
   "source": [
    "for t in range(int(input())):\n",
    "    n,m = map(int, input().split(\" \"))\n",
    "    x,y = map(int, input().split(\" \"))\n",
    "    a,b = map(int, input().split(\" \"))\n",
    "    print(\"YES\" if max(n - a, m - b) >= n - x + m - y else \"NO\")"
   ]
  },
  {
   "cell_type": "markdown",
   "metadata": {},
   "source": [
    "https://www.youtube.com/watch?v=4jY57Ehc14Y"
   ]
  },
  {
   "cell_type": "code",
   "execution_count": 47,
   "metadata": {},
   "outputs": [],
   "source": [
    "# KMP algorithm\n",
    "# To find the substring in a given string. \n",
    "# Reduced the time complexity from O(n*m) to O(n+m)\n",
    "\n",
    "def find_lps(pat, pat_len, lps):\n",
    "    lenn = 0\n",
    "    i = 1\n",
    "    while (i < pat_len):\n",
    "        if(pat[i]== pat[lenn]):\n",
    "            lps[i] = lenn + 1\n",
    "            i+=1\n",
    "            lenn+=1\n",
    "        \n",
    "        else:\n",
    "            if(lenn!=0):\n",
    "                lenn = lps[lenn-1]\n",
    "            else:\n",
    "                lps[i] = 0 \n",
    "                i +=1\n",
    "    return lps\n",
    "\n",
    "def kmp(pat, text):\n",
    "    tex_len = len(text)\n",
    "    pat_len = len(pat)\n",
    "    count=0\n",
    "    lps = [0]*pat_len\n",
    "    lps = find_lps(pat, pat_len, lps)\n",
    "    i = 0\n",
    "    j = 0\n",
    "    while(i < tex_len):\n",
    "        if(text[i]== pat[j]):\n",
    "            i+=1\n",
    "            j+=1\n",
    "        else:\n",
    "            if(j!=0):\n",
    "                j = lps[j-1]\n",
    "            else:\n",
    "                i=i+1\n",
    "        if(j==pat_len):\n",
    "            count+=1\n",
    "            print(f\"{count}st/nd occurence of the word\")\n",
    "            j = lps[j-1]\n",
    "    return count\n",
    "\n"
   ]
  },
  {
   "cell_type": "code",
   "execution_count": 54,
   "metadata": {},
   "outputs": [
    {
     "name": "stdout",
     "output_type": "stream",
     "text": [
      "1st/nd occurence of the word\n",
      "2st/nd occurence of the word\n"
     ]
    }
   ],
   "source": [
    "text = \"a player can capture an uncaptured cell that has land, and keep capturing neighbouring cells that share a side with it if they are on land. A cell once captured by a player can't be captured again by another player\"\n",
    "pat = \"land\"\n",
    "solu = kmp(pat, text)"
   ]
  },
  {
   "cell_type": "code",
   "execution_count": 89,
   "metadata": {},
   "outputs": [
    {
     "name": "stdout",
     "output_type": "stream",
     "text": [
      "good\n"
     ]
    }
   ],
   "source": [
    "text = \"Blue is black. Mummy is good. Nandha is awesome. Nandhini is good.\"\n",
    "pattern = input()"
   ]
  },
  {
   "cell_type": "code",
   "execution_count": 91,
   "metadata": {},
   "outputs": [
    {
     "name": "stdout",
     "output_type": "stream",
     "text": [
      " Mummy is good\n"
     ]
    }
   ],
   "source": [
    "a  = text.split(\".\")\n",
    "count=0\n",
    "for each in a:\n",
    "    if(each.count(pattern)>0):\n",
    "        print(each)\n",
    "        count+=1\n",
    "        break\n",
    "if count==0:\n",
    "    print(\"NOT FOUND\")\n"
   ]
  },
  {
   "cell_type": "code",
   "execution_count": 92,
   "metadata": {},
   "outputs": [
    {
     "name": "stdout",
     "output_type": "stream",
     "text": [
      "1\n"
     ]
    }
   ],
   "source": [
    "print(count)"
   ]
  },
  {
   "cell_type": "code",
   "execution_count": null,
   "metadata": {},
   "outputs": [],
   "source": []
  }
 ],
 "metadata": {
  "kernelspec": {
   "display_name": "Python 3",
   "language": "python",
   "name": "python3"
  },
  "language_info": {
   "codemirror_mode": {
    "name": "ipython",
    "version": 3
   },
   "file_extension": ".py",
   "mimetype": "text/x-python",
   "name": "python",
   "nbconvert_exporter": "python",
   "pygments_lexer": "ipython3",
   "version": "3.8.5"
  }
 },
 "nbformat": 4,
 "nbformat_minor": 4
}
