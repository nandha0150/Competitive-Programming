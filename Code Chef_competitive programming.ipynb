{
 "cells": [
  {
   "cell_type": "markdown",
   "metadata": {},
   "source": [
    "## Competitive Programming problems\n"
   ]
  },
  {
   "cell_type": "code",
   "execution_count": 12,
   "metadata": {},
   "outputs": [
    {
     "name": "stdout",
     "output_type": "stream",
     "text": [
      "2\n",
      "1 2 3 2 1\n",
      "NO\n",
      "2 4 2 1 2\n",
      "NO\n"
     ]
    }
   ],
   "source": [
    "# Accepted \n",
    "\n",
    "# Contest Code:PRACTICE Problem Code:CCISLAND\n",
    "\n",
    "# cook your dish here\n",
    "num = int(input())\n",
    "for each in range(num):\n",
    "    a= []\n",
    "    a = list(map(int,input().strip().split()))  \n",
    "    if(a[-1]*a[2] <= a[0] and a[-1]*a[3] <= a[1]):\n",
    "        print(\"YES\")\n",
    "    else:\n",
    "        print(\"NO\")\n",
    "    \n",
    "        "
   ]
  },
  {
   "cell_type": "code",
   "execution_count": 7,
   "metadata": {},
   "outputs": [
    {
     "name": "stdout",
     "output_type": "stream",
     "text": [
      "5\n"
     ]
    }
   ],
   "source": [
    "a = [3,4,5]\n",
    "print(a[-1])\n",
    "0 1 2 3 4"
   ]
  }
 ],
 "metadata": {
  "kernelspec": {
   "display_name": "Python 3",
   "language": "python",
   "name": "python3"
  },
  "language_info": {
   "codemirror_mode": {
    "name": "ipython",
    "version": 3
   },
   "file_extension": ".py",
   "mimetype": "text/x-python",
   "name": "python",
   "nbconvert_exporter": "python",
   "pygments_lexer": "ipython3",
   "version": "3.8.5"
  }
 },
 "nbformat": 4,
 "nbformat_minor": 4
}
